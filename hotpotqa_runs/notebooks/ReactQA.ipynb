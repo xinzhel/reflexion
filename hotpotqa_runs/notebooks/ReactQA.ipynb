{
 "cells": [
  {
   "cell_type": "code",
   "execution_count": 2,
   "metadata": {},
   "outputs": [],
   "source": [
    "import sys, os\n",
    "sys.path.append('..')\n",
    "root  = '../root/'\n",
    "import joblib\n",
    "from util import summarize_react_trial, log_react_trial, save_agents\n",
    "from agents import ReactReflectAgent, ReactAgent, ReflexionStrategy\n",
    "\n",
    "hotpot = joblib.load('../data/hotpot-qa-distractor-sample.joblib').reset_index(drop = True)\n",
    "question, answer = hotpot.iloc[0]['question'], hotpot.iloc[0]['answer']\n",
    "print(f'Question: {question}\\nAnswer: {answer}')\n",
    "agent = ReactAgent() # ReactReflectAgent\n",
    "\n",
    "\n",
    "trial = 0\n",
    "log = ''\n",
    "for i in range(1): # Run 1 trials\n",
    "    if not agent.is_correct():\n",
    "        agent.run()\n",
    "        print(f'Answer: {agent.key}')\n",
    "    trial += 1\n",
    "    log += log_react_trial([agent], trial)\n",
    "    correct, incorrect, halted = summarize_react_trial([agent])\n",
    "    print(f'Finished Trial {trial}, Correct: {len(correct)}, Incorrect: {len(incorrect)}, Halted: {len(halted)}')"
   ]
  },
  {
   "cell_type": "code",
   "execution_count": 7,
   "metadata": {},
   "outputs": [
    {
     "name": "stdout",
     "output_type": "stream",
     "text": [
      "Question: VIVA Media AG changed it's name in 2004. What does their new acronym stand for?\n",
      "Answer: Gesellschaft mit beschränkter Haftung\n"
     ]
    }
   ],
   "source": [
    "ReactReflectAgent\n",
    "agent.run(reflect_strategy = strategy) "
   ]
  }
 ],
 "metadata": {
  "kernelspec": {
   "display_name": "env",
   "language": "python",
   "name": "python3"
  },
  "language_info": {
   "codemirror_mode": {
    "name": "ipython",
    "version": 3
   },
   "file_extension": ".py",
   "mimetype": "text/x-python",
   "name": "python",
   "nbconvert_exporter": "python",
   "pygments_lexer": "ipython3",
   "version": "3.11.4"
  },
  "orig_nbformat": 4,
  "vscode": {
   "interpreter": {
    "hash": "e23f799cbd2581634725fbf6ce3480ae26192d78438dfafc8efe944acd6490d5"
   }
  }
 },
 "nbformat": 4,
 "nbformat_minor": 2
}
